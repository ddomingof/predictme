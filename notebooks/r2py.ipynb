{
 "cells": [
  {
   "cell_type": "code",
   "execution_count": 1,
   "metadata": {},
   "outputs": [],
   "source": [
    "import warnings\n",
    "from rpy2.rinterface import RRuntimeWarning\n",
    "warnings.filterwarnings('ignore',category=FutureWarning)\n",
    "warnings.filterwarnings('ignore',category=RRuntimeWarning)\n",
    "import sys"
   ]
  },
  {
   "cell_type": "code",
   "execution_count": 2,
   "metadata": {},
   "outputs": [],
   "source": [
    "import pandas as pd\n",
    "import numpy as np\n",
    "from sklearn import datasets"
   ]
  },
  {
   "cell_type": "code",
   "execution_count": 3,
   "metadata": {},
   "outputs": [],
   "source": [
    "from rpy2.robjects import pandas2ri\n",
    "pandas2ri.activate()"
   ]
  },
  {
   "cell_type": "code",
   "execution_count": 6,
   "metadata": {},
   "outputs": [
    {
     "name": "stdout",
     "output_type": "stream",
     "text": [
      "The rpy2.ipython extension is already loaded. To reload it, use:\n",
      "  %reload_ext rpy2.ipython\n"
     ]
    }
   ],
   "source": [
    "# Enable R magic\n",
    "%load_ext rpy2.ipython"
   ]
  },
  {
   "cell_type": "code",
   "execution_count": null,
   "metadata": {},
   "outputs": [],
   "source": [
    "%%R\n",
    "\n",
    "library(h2o)\n",
    "library(randomForest)\n",
    "library(glmnet)\n",
    "library(gbm)\n",
    "library(bnlearn)\n",
    "library(ggplot2)\n",
    "library(CORElearn)"
   ]
  },
  {
   "cell_type": "code",
   "execution_count": null,
   "metadata": {},
   "outputs": [],
   "source": [
    "%%R\n",
    "\n",
    "#### main function ####\n",
    "\n",
    "ann_fun = function(input_data){\n",
    "  if(dim(input_data)[2] > 1)\n",
    "  {\n",
    "    h2o.init(nthreads = -1, max_mem_size = \"12g\")\n",
    "    \n",
    "    #sc = scale(input_data)\n",
    "    myx = as.h2o(scale(input_data)) \n",
    "    \n",
    "    n = round(dim(input_data)[2])\n",
    "    m = round(dim(input_data)[2]/2)\n",
    "    \n",
    "    hyper_params <- list(hidden = list(1, c(n, 1), c(n,m,1), c(m,1)),\n",
    "                         input_dropout_ratio = c(0,0.05, 0.2,0.5),\n",
    "                         l2=10^c(-4:4))\n",
    "    \n",
    "    \n",
    "    r = sample(20:60000, 1)\n",
    "    grid = h2o.grid(\"deeplearning\", \n",
    "                    grid_id = paste(\"mygrid\", r, sep=\"_\"), \n",
    "                    autoencoder = TRUE,\n",
    "                    x = colnames(myx),\n",
    "                    training_frame = myx, \n",
    "                    seed=1234567, \n",
    "                    stopping_metric=\"MSE\", \n",
    "                    stopping_rounds = 5,\n",
    "                    #activation= \"TanhWithDropout\",\n",
    "                    activation= \"Tanh\",\n",
    "                    standardize=TRUE,\n",
    "                    epochs=500,\n",
    "                    hyper_params = hyper_params)\n",
    "    \n",
    "    gbm_sorted_grid <- h2o.getGrid(grid_id = paste(\"mygrid\", r, sep=\"_\"), sort_by = \"mse\")\n",
    "    fit <- h2o.getModel(gbm_sorted_grid@model_ids[[1]])\n",
    "    #nlayers = length(strsplit(gbm_sorted_grid@summary_table[1,1], \",\")[[1]])\n",
    "    #browser()\n",
    "    nlayers = length(strsplit(substr(gbm_sorted_grid@summary_table[1,1], 2, nchar(gbm_sorted_grid@summary_table[1,1])-1), \",\")[[1]])\n",
    "    newvar = as.data.frame(h2o.deepfeatures(fit, myx, nlayers))\n",
    "    \n",
    "    #Rename column\n",
    "    newvar = as.data.frame(newvar[,1])\n",
    "    colnames(newvar) = paste( sub(\"_.*\", '', colnames(input_data)[1]) , sub(\".*_\", '',colnames(input_data)[1]) , sep= \"_\")    \n",
    "    \n",
    "    #save meta-features in variable \n",
    "    # need to change the nrow depending on number of samples(patients)\n",
    "    subgraph_feature = data.frame(matrix(NA, nrow = 540, ncol = 1)) #540\n",
    "    colnames(subgraph_feature) = \"dummy\"\n",
    "    \n",
    "    subgraph_feature = cbind(subgraph_feature,newvar) \n",
    "    subgraph_feature$dummy = NULL\n",
    "    \n",
    "  }else if(dim(input_data)[2] == 1 ){\n",
    "    subgraph_feature = as.data.frame(input_data)\n",
    "    colnames(newvar) = paste( sub(\"_.*\", '', colnames(input_data)[1]) , sub(\".*_\", '',colnames(input_data)[1]) , sep= \"_\")\n",
    "  }else{\n",
    "    # need to change the nrow depending on number of samples(patients)\n",
    "    subgraph_feature = data.frame(matrix(NA, nrow = 540, ncol = 1)) #540\n",
    "    colnames(subgraph_feature) = \"dummy\"\n",
    "  }\n",
    "  outcome = list(subgraph_feature, fit) # scales=attributes(sc)\n",
    "  return(outcome)\n",
    "  #return(subgraph_feature)\n",
    "}\n"
   ]
  },
  {
   "cell_type": "code",
   "execution_count": null,
   "metadata": {},
   "outputs": [],
   "source": [
    "snps_data = pd.read_csv('C:/Users/Asif Khan/predictme/data/Asif_Genotype_Disease_Only_ROSMAP.CSV', index_col=0)\n",
    "snps_data = snps_data.transpose()"
   ]
  },
  {
   "cell_type": "code",
   "execution_count": null,
   "metadata": {},
   "outputs": [],
   "source": [
    "snps_data.head()"
   ]
  },
  {
   "cell_type": "code",
   "execution_count": null,
   "metadata": {},
   "outputs": [],
   "source": [
    "snps_list = pd.read_csv(\n",
    "    'C:/Users/Asif Khan/predictme/data/subgraphs15_snps_mod1.csv',header=None, index_col=0\n",
    ")\n",
    "\n",
    "subgraph2snps = {\n",
    "    index: snps.dropna().tolist()\n",
    "    for index, snps in snps_list.iterrows()\n",
    "}"
   ]
  },
  {
   "cell_type": "code",
   "execution_count": null,
   "metadata": {},
   "outputs": [],
   "source": [
    "snp_mat = [\n",
    "    snps_data[snps]\n",
    "    for subgraph, snps in subgraph2snps.items()\n",
    "]"
   ]
  },
  {
   "cell_type": "code",
   "execution_count": null,
   "metadata": {},
   "outputs": [],
   "source": [
    "snp_mat"
   ]
  },
  {
   "cell_type": "code",
   "execution_count": null,
   "metadata": {},
   "outputs": [],
   "source": [
    "# Load Mechanisms*Patients*SNPs Data (e.g., 15 mechanisms* 540 Patients * n SNPs)\n",
    "%%R\n",
    "\n",
    "load(\"/home/memon/genetic_analyses/ann/output/subgraph15/rosmapDisIdibapsAetpd148.snp.mat.RData\")"
   ]
  },
  {
   "cell_type": "code",
   "execution_count": null,
   "metadata": {},
   "outputs": [],
   "source": [
    "# apply main function on each mechanisms matrices\n",
    "%%R\n",
    "\n",
    "model.store <-lapply(snp.mat, function(x) ann_fun(x))\n",
    "save(model.store, file = \"/home/memon/genetic_analyses/ann/output/subgraph15/model.store.rosmapIdibaps-148_4.RData\")\n",
    "\n",
    "\n",
    "autoen=matrix(nrow = 540, ncol = 15) # 358 PD patients and 15 subgraphs\n",
    "\n",
    "j=1\n",
    "for (i in model.store){\n",
    "  autoen[,j]=i[[1]][[1]]\n",
    "  j=j+1\n",
    "}\n",
    "\n",
    "rownames(autoen) <- rownames(snp.mat[[1]])\n",
    "colnames(autoen) <- names(model.store)\n",
    "save(autoen, file = \"/home/memon/genetic_analyses/ann/output/subgraph15/autoen_matrix_rosmapIdibaps-148_4.RData\")\n"
   ]
  },
  {
   "cell_type": "code",
   "execution_count": null,
   "metadata": {},
   "outputs": [],
   "source": [
    "#' save models in h2o format\n",
    "%%R\n",
    "\n",
    "an_model <- lapply(model.store, '[[',2)  # This returns a list with only the 2nd element (h2o models)\n",
    "\n",
    "for (i in an_model){\n",
    "  h2o.saveModel(i, path = \"/home/memon/genetic_analyses/ann/output/subgraph15/autoen_rosmapIdibaps-148_h2omodel_4/\")\n",
    "}\n",
    "\n",
    "h2o.shutdown(prompt = FALSE)\n",
    "gc()\n"
   ]
  },
  {
   "cell_type": "code",
   "execution_count": null,
   "metadata": {},
   "outputs": [],
   "source": [
    "%%R\n",
    "\n"
   ]
  },
  {
   "cell_type": "code",
   "execution_count": null,
   "metadata": {},
   "outputs": [],
   "source": [
    "%%R\n",
    "\n"
   ]
  },
  {
   "cell_type": "code",
   "execution_count": 6,
   "metadata": {},
   "outputs": [],
   "source": [
    "%%R \n",
    "\n",
    "fit = lm(mtcars$cyl ~ mtcars$mpg)\n",
    "coefficients <- coef(fit)\n"
   ]
  },
  {
   "cell_type": "code",
   "execution_count": 7,
   "metadata": {},
   "outputs": [],
   "source": [
    "%%R\n",
    "summary(fit)"
   ]
  },
  {
   "cell_type": "code",
   "execution_count": 5,
   "metadata": {},
   "outputs": [],
   "source": []
  },
  {
   "cell_type": "code",
   "execution_count": 115,
   "metadata": {},
   "outputs": [],
   "source": []
  },
  {
   "cell_type": "code",
   "execution_count": 117,
   "metadata": {},
   "outputs": [],
   "source": []
  }
 ],
 "metadata": {
  "kernelspec": {
   "display_name": "Python 3",
   "language": "python",
   "name": "python3"
  },
  "language_info": {
   "codemirror_mode": {
    "name": "ipython",
    "version": 3
   },
   "file_extension": ".py",
   "mimetype": "text/x-python",
   "name": "python",
   "nbconvert_exporter": "python",
   "pygments_lexer": "ipython3",
   "version": "3.7.4"
  }
 },
 "nbformat": 4,
 "nbformat_minor": 2
}
