{
 "cells": [
  {
   "cell_type": "code",
   "execution_count": 1,
   "metadata": {},
   "outputs": [],
   "source": [
    "import warnings\n",
    "from rpy2.rinterface import RRuntimeWarning\n",
    "warnings.filterwarnings('ignore',category=FutureWarning)\n",
    "warnings.filterwarnings('ignore',category=RRuntimeWarning)\n",
    "import sys\n",
    "import os"
   ]
  },
  {
   "cell_type": "code",
   "execution_count": 2,
   "metadata": {},
   "outputs": [],
   "source": [
    "import pandas as pd\n",
    "import numpy as np"
   ]
  },
  {
   "cell_type": "code",
   "execution_count": 3,
   "metadata": {},
   "outputs": [],
   "source": [
    "from rpy2.robjects import pandas2ri\n",
    "pandas2ri.activate()"
   ]
  },
  {
   "cell_type": "code",
   "execution_count": 4,
   "metadata": {},
   "outputs": [],
   "source": [
    "# Enable R magic\n",
    "%load_ext rpy2.ipython"
   ]
  },
  {
   "cell_type": "code",
   "execution_count": 5,
   "metadata": {},
   "outputs": [],
   "source": [
    "HERE = os.path.dirname(os.path.realpath('__file__'))\n",
    "PROJECT = os.path.abspath(os.path.join(HERE, '..'))\n",
    "DATA = os.path.join(PROJECT, 'data')\n",
    "\n",
    "GENOTYPE_DATA = os.path.join(DATA, 'Asif_Genotype_Disease_Only_ROSMAP.csv')\n",
    "SUGBRAPH_SNPS = os.path.join(DATA, 'subgraphs15_snps_mod1.csv')\n",
    "SUBGRAPH_15_RDATA = os.path.join(DATA, 'subgraph15_snpset148.RData')\n",
    "\n",
    "INPUT_FOR_MODEL = os.path.join(DATA, \"rosmap148.snp.mat.RData\")"
   ]
  },
  {
   "cell_type": "code",
   "execution_count": 6,
   "metadata": {
    "scrolled": true
   },
   "outputs": [
    {
     "name": "stderr",
     "output_type": "stream",
     "text": [
      "R[write to console]: \n",
      "----------------------------------------------------------------------\n",
      "\n",
      "Your next step is to start H2O:\n",
      "    > h2o.init()\n",
      "\n",
      "For H2O package documentation, ask for help:\n",
      "    > ??h2o\n",
      "\n",
      "After starting H2O, you can use the Web UI at http://localhost:54321\n",
      "For more information visit http://docs.h2o.ai\n",
      "\n",
      "----------------------------------------------------------------------\n",
      "\n",
      "\n",
      "R[write to console]: \n",
      "Attache Paket: ‘h2o’\n",
      "\n",
      "\n",
      "R[write to console]: The following objects are masked from ‘package:stats’:\n",
      "\n",
      "    cor, sd, var\n",
      "\n",
      "\n",
      "R[write to console]: The following objects are masked from ‘package:base’:\n",
      "\n",
      "    %*%, %in%, &&, apply, as.factor, as.numeric, colnames, colnames<-,\n",
      "    ifelse, is.character, is.factor, is.numeric, log, log10, log1p,\n",
      "    log2, round, signif, trunc, ||\n",
      "\n",
      "\n",
      "R[write to console]: randomForest 4.6-14\n",
      "\n",
      "R[write to console]: Type rfNews() to see new features/changes/bug fixes.\n",
      "\n",
      "R[write to console]: Lade nötiges Paket: Matrix\n",
      "\n",
      "R[write to console]: Loaded glmnet 3.0-2\n",
      "\n",
      "\n",
      "R[write to console]: Loaded gbm 2.1.5\n",
      "\n",
      "R[write to console]: \n",
      "Attache Paket: ‘bnlearn’\n",
      "\n",
      "\n",
      "R[write to console]: The following object is masked from ‘package:stats’:\n",
      "\n",
      "    sigma\n",
      "\n",
      "\n",
      "R[write to console]: \n",
      "Attache Paket: ‘ggplot2’\n",
      "\n",
      "\n",
      "R[write to console]: The following object is masked from ‘package:randomForest’:\n",
      "\n",
      "    margin\n",
      "\n",
      "\n",
      "R[write to console]: \n",
      "Attache Paket: ‘CORElearn’\n",
      "\n",
      "\n",
      "R[write to console]: The following object is masked from ‘package:bnlearn’:\n",
      "\n",
      "    discretize\n",
      "\n",
      "\n",
      "R[write to console]: \n",
      "Attache Paket: ‘dplyr’\n",
      "\n",
      "\n",
      "R[write to console]: The following object is masked from ‘package:randomForest’:\n",
      "\n",
      "    combine\n",
      "\n",
      "\n",
      "R[write to console]: The following objects are masked from ‘package:stats’:\n",
      "\n",
      "    filter, lag\n",
      "\n",
      "\n",
      "R[write to console]: The following objects are masked from ‘package:base’:\n",
      "\n",
      "    intersect, setdiff, setequal, union\n",
      "\n",
      "\n"
     ]
    }
   ],
   "source": [
    "%%R\n",
    "\n",
    "library(h2o)\n",
    "library(randomForest)\n",
    "library(glmnet)\n",
    "library(gbm)\n",
    "library(bnlearn)\n",
    "library(ggplot2)\n",
    "library(CORElearn)\n",
    "library(dplyr)"
   ]
  },
  {
   "cell_type": "code",
   "execution_count": 7,
   "metadata": {},
   "outputs": [],
   "source": [
    "%%R\n",
    "#### main function ####\n",
    "\n",
    "ann_fun = function(input_data){\n",
    "  if(dim(input_data)[2] > 1)\n",
    "  {\n",
    "    h2o.init(nthreads = -1, max_mem_size = \"12g\")\n",
    "    \n",
    "    #sc = scale(input_data)\n",
    "    myx = as.h2o(scale(input_data)) \n",
    "    \n",
    "    n = round(dim(input_data)[2])\n",
    "    m = round(dim(input_data)[2]/2)\n",
    "    \n",
    "    hyper_params <- list(hidden = list(1, c(n, 1), c(n,m,1), c(m,1)),\n",
    "                         input_dropout_ratio = c(0,0.05, 0.2,0.5),\n",
    "                         l2=10^c(-4:4))\n",
    "    \n",
    "    \n",
    "    r = sample(20:60000, 1)\n",
    " \n",
    "  grid = h2o.grid(\"deeplearning\", \n",
    "                    grid_id = paste(\"mygrid\", r, sep=\"_\"), \n",
    "                    autoencoder= TRUE,\n",
    "                  x = colnames(myx),\n",
    "                    training_frame = myx, \n",
    "                    seed=1234567, \n",
    "                    stopping_metric=\"MSE\", \n",
    "                    stopping_rounds = 5,\n",
    "                    #activation= \"TanhWithDropout\",\n",
    "                    activation= \"Tanh\",\n",
    "                    standardize=TRUE,\n",
    "                    epochs=500,\n",
    "                    hyper_params = hyper_params)\n",
    "    \n",
    "    gbm_sorted_grid <- h2o.getGrid(grid_id = paste(\"mygrid\", r, sep=\"_\"), sort_by = \"mse\")\n",
    "    fit <- h2o.getModel(gbm_sorted_grid@model_ids[[1]])\n",
    "    #nlayers = length(strsplit(gbm_sorted_grid@summary_table[1,1], \",\")[[1]])\n",
    "    #browser()\n",
    "    nlayers = length(strsplit(substr(gbm_sorted_grid@summary_table[1,1], 2, nchar(gbm_sorted_grid@summary_table[1,1])-1), \",\")[[1]])\n",
    "    newvar = as.data.frame(h2o.deepfeatures(fit, myx, nlayers))\n",
    " \n",
    "  \n",
    "    #Rename column\n",
    " \n",
    "    newvar = as.data.frame(newvar[,1])\n",
    "    colnames(newvar) = paste( sub(\"_.*\", '', colnames(input_data)[1]) , sub(\".*_\", '',colnames(input_data)[1]) , sep= \"_\")\n",
    "    \n",
    "   \n",
    "    #save meta-features in variable \n",
    "    subgraph_feature = data.frame(matrix(NA, nrow = 194, ncol = 1)) #SNP data shape\n",
    "    # subgraph_feature = data.frame(matrix(NA, nrow = 486, ncol = 1)) #SNP Data shape \n",
    "    colnames(subgraph_feature) = \"dummy\"\n",
    " \n",
    "  \n",
    "    subgraph_feature = cbind(subgraph_feature,newvar) \n",
    "    subgraph_feature$dummy = NULL\n",
    "    \n",
    "  }else if(dim(input_data)[2] == 1 ){\n",
    "    subgraph_feature = as.data.frame(input_data)\n",
    "    colnames(newvar) = paste( sub(\"_.*\", '', colnames(input_data)[1]) , sub(\".*_\", '',colnames(input_data)[1]) , sep= \"_\")\n",
    "  }else{\n",
    "    subgraph_feature = data.frame(matrix(NA, nrow = 194, ncol = 1)) #844\n",
    "    # subgraph_feature = data.frame(matrix(NA, nrow = 486, ncol = 1)) #844\n",
    "    colnames(subgraph_feature) = \"dummy\"\n",
    "  }\n",
    "  outcome = list(subgraph_feature, fit) # scales=attributes(sc)\n",
    "  return(outcome)\n",
    "  #return(subgraph_feature)\n",
    "}"
   ]
  },
  {
   "cell_type": "code",
   "execution_count": 8,
   "metadata": {},
   "outputs": [],
   "source": [
    "# snps_data = pd.read_csv(GENOTYPE_DATA, index_col=0)\n",
    "# snps_data = snps_data.transpose()"
   ]
  },
  {
   "cell_type": "code",
   "execution_count": 9,
   "metadata": {},
   "outputs": [],
   "source": [
    "%%R -i=SUBGRAPH_15_RDATA,GENOTYPE_DATA,INPUT_FOR_MODEL\n",
    "\n",
    "load(SUBGRAPH_15_RDATA)\n",
    "userSNPs <- read.csv(GENOTYPE_DATA, row.names = 1, stringsAsFactors=FALSE)\n",
    "userSNPs <- as.data.frame(t(userSNPs), stringsAsFactors = FALSE)\n",
    "\n",
    "snp_mat = list()\n",
    "k = 1\n",
    "for (i in subgraph15.snps){\n",
    "  snp_mat[[k]] = select(userSNPs, i)\n",
    "  k = k + 1\n",
    "}\n",
    "\n",
    "names(snp_mat) <- names(subgraph15.snps)\n",
    "save(snp_mat,file = INPUT_FOR_MODEL)\n"
   ]
  },
  {
   "cell_type": "code",
   "execution_count": 10,
   "metadata": {},
   "outputs": [],
   "source": [
    "# snps_data.head()"
   ]
  },
  {
   "cell_type": "code",
   "execution_count": 12,
   "metadata": {},
   "outputs": [],
   "source": [
    "# snps_data.shape"
   ]
  },
  {
   "cell_type": "code",
   "execution_count": 13,
   "metadata": {},
   "outputs": [],
   "source": [
    "# snps_list = pd.read_csv(\n",
    "#     SUGBRAPH_SNPS,header=None, index_col=0\n",
    "# )\n",
    "\n",
    "# subgraph2snps = {\n",
    "#     index: snps.dropna().tolist()\n",
    "#     for index, snps in snps_list.iterrows()\n",
    "# }"
   ]
  },
  {
   "cell_type": "markdown",
   "metadata": {},
   "source": [
    "Dictionary of subgraphs to dataframe slices for the SNPs in the subgraph"
   ]
  },
  {
   "cell_type": "code",
   "execution_count": null,
   "metadata": {},
   "outputs": [],
   "source": []
  },
  {
   "cell_type": "code",
   "execution_count": 14,
   "metadata": {},
   "outputs": [],
   "source": [
    "# snp_mat = [\n",
    "#     snps_data[snps]\n",
    "#     for _, snps in subgraph2snps.items()\n",
    "# ]\n",
    "# subgraph_4 = pandas2ri.py2rpy_pandasdataframe(snp_mat['Subgraph_4'])"
   ]
  },
  {
   "cell_type": "code",
   "execution_count": null,
   "metadata": {},
   "outputs": [
    {
     "name": "stdout",
     "output_type": "stream",
     "text": [
      "\n",
      "H2O is not running yet, starting it now...\n",
      "\n",
      "Note:  In case of errors look at the following log files:\n",
      "    /var/folders/yx/ppwbtpyn61l2796mnr1t62f00000gn/T//RtmpqcZMqn/h2o_danieldomingo_started_from_r.out\n",
      "    /var/folders/yx/ppwbtpyn61l2796mnr1t62f00000gn/T//RtmpqcZMqn/h2o_danieldomingo_started_from_r.err\n",
      "\n",
      "\n",
      "Starting H2O JVM and connecting: . Connection successful!\n",
      "\n",
      "R is connected to the H2O cluster: \n",
      "    H2O cluster uptime:         2 seconds 286 milliseconds \n",
      "    H2O cluster timezone:       Europe/Berlin \n",
      "    H2O data parsing timezone:  UTC \n",
      "    H2O cluster version:        3.26.0.2 \n",
      "    H2O cluster version age:    5 months and 24 days !!! \n",
      "    H2O cluster name:           H2O_started_from_R_danieldomingo_ekm683 \n",
      "    H2O cluster total nodes:    1 \n",
      "    H2O cluster total memory:   10.67 GB \n",
      "    H2O cluster total cores:    4 \n",
      "    H2O cluster allowed cores:  4 \n",
      "    H2O cluster healthy:        TRUE \n",
      "    H2O Connection ip:          localhost \n",
      "    H2O Connection port:        54321 \n",
      "    H2O Connection proxy:       NA \n",
      "    H2O Internal Security:      FALSE \n",
      "    H2O API Extensions:         Amazon S3, XGBoost, Algos, AutoML, Core V3, Core V4 \n",
      "    R Version:                  R version 3.6.2 (2019-12-12) \n",
      "\n",
      "  |======================================================================| 100%\n",
      "  |====================================================================  |  97%"
     ]
    }
   ],
   "source": [
    "%%R\n",
    "# see: https://ipython.org/ipython-doc/2/config/extensions/rmagic.html\n",
    "\n",
    "# apply main function on each mechanisms matrices\n",
    "model.store <- lapply(snp_mat, function(x) ann_fun(x))\n",
    "\n",
    "####### This does not work to apply for each subgraph #######\n",
    "#model.store <- lapply(subgraph_4, function(x) ann_fun(x))\n",
    "save(model.store, file = \"model.store.rosmapIdibaps-148_full.RData\")\n",
    "\n",
    "\n",
    "autoen=matrix(nrow = 194, ncol = 15) # 358 PD patients and 15 subgraphs\n",
    "\n",
    "j=1\n",
    "for (i in model.store){\n",
    "  autoen[,j]=i[[1]][[1]]\n",
    "  j=j+1\n",
    "}\n",
    "\n",
    "rownames(autoen) <- rownames(snp.mat[[1]])\n",
    "colnames(autoen) <- names(model.store)\n",
    "save(autoen, file = \"/home/memon/genetic_analyses/ann/output/subgraph15/autoen_matrix_rosmapIdibaps-148_full.RData\")\n"
   ]
  },
  {
   "cell_type": "code",
   "execution_count": null,
   "metadata": {},
   "outputs": [],
   "source": [
    "%%R\n",
    "#' save models in h2o format\n",
    "\n",
    "an_model <- lapply(model.store, '[[',2)  # This returns a list with only the 2nd element (h2o models)\n",
    "\n",
    "for (i in an_model){\n",
    "  h2o.saveModel(i, path = \"/home/memon/genetic_analyses/ann/output/subgraph15/autoen_rosmapIdibaps-148_h2omodel_full/\")\n",
    "}\n",
    "\n",
    "h2o.shutdown(prompt = FALSE)\n",
    "gc()\n"
   ]
  },
  {
   "cell_type": "code",
   "execution_count": null,
   "metadata": {},
   "outputs": [],
   "source": [
    "%%R \n"
   ]
  },
  {
   "cell_type": "code",
   "execution_count": null,
   "metadata": {},
   "outputs": [],
   "source": [
    "%%R"
   ]
  },
  {
   "cell_type": "code",
   "execution_count": null,
   "metadata": {},
   "outputs": [],
   "source": []
  }
 ],
 "metadata": {
  "kernelspec": {
   "display_name": "Python 3",
   "language": "python",
   "name": "python3"
  },
  "language_info": {
   "codemirror_mode": {
    "name": "ipython",
    "version": 3
   },
   "file_extension": ".py",
   "mimetype": "text/x-python",
   "name": "python",
   "nbconvert_exporter": "python",
   "pygments_lexer": "ipython3",
   "version": "3.7.4"
  }
 },
 "nbformat": 4,
 "nbformat_minor": 2
}
